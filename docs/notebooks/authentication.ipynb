{
 "cells": [
  {
   "cell_type": "markdown",
   "metadata": {},
   "source": [
    "# Authentication\n",
    "\n",
    "This notebook demonstrates two ways to authenticate Location services APIs.\n",
    "- Using API key from [Here developer portal](https://developer.here.com/documentation/identity-access-management/dev_guide/topics/dev-apikey.html) or [Here platform](https://developer.here.com/documentation/identity-access-management/dev_guide/topics/plat-using-apikeys.html)\n",
    "- Using OAuth Token from Here platform."
   ]
  },
  {
   "cell_type": "markdown",
   "metadata": {},
   "source": [
    "## Authentication using API key "
   ]
  },
  {
   "cell_type": "code",
   "execution_count": null,
   "metadata": {},
   "outputs": [],
   "source": [
    "import os\n",
    "from here_location_services import LS"
   ]
  },
  {
   "cell_type": "markdown",
   "metadata": {},
   "source": [
    "copy your API key into environment variable"
   ]
  },
  {
   "cell_type": "code",
   "execution_count": null,
   "metadata": {},
   "outputs": [],
   "source": [
    "os.environ[\"LS_API_KEY\"] = \"YOUR-API-KEY\"  # replace your API key here."
   ]
  },
  {
   "cell_type": "code",
   "execution_count": null,
   "metadata": {},
   "outputs": [],
   "source": [
    "api_key = os.environ[\"LS_API_KEY\"]\n",
    "\n",
    "ls = LS(api_key=api_key)"
   ]
  },
  {
   "cell_type": "code",
   "execution_count": null,
   "metadata": {},
   "outputs": [],
   "source": [
    "# geocoding example\n",
    "\n",
    "address = \"Invalidenstr 116, 10115 Berlin, Germany\"\n",
    "gc_response = ls.geocode(query=address)\n",
    "\n",
    "gc_response.response"
   ]
  },
  {
   "cell_type": "markdown",
   "metadata": {},
   "source": [
    "# Authentication using OAuth token "
   ]
  },
  {
   "cell_type": "markdown",
   "metadata": {},
   "source": [
    "To authenticate using OAuth token of HERE Platform account.\n",
    "\n",
    "login to HERE Platform follow the below steps to get credentials:\n",
    "- Go to [HERE Platform Applications and Keys](https://platform.here.com/profile/apps-and-keys) and register a new app.\n",
    "- Create a key for the app and download the generated `credentials.properties` file.\n",
    "\n",
    "\n",
    "The HERE platform generated app credentials should look similar to the example below:\n",
    "```bash\n",
    "here.user.id = <example_here>\n",
    "here.client.id = <example_here>\n",
    "here.access.key.id = <example_here>\n",
    "here.access.key.secret = <example_here>\n",
    "here.token.endpoint.url = <example_here>\n",
    "```\n",
    "To get more details on the HERE Platform account please check [this](https://developer.here.com/documentation/identity-access-management/dev_guide/topics/plat-token.html)."
   ]
  },
  {
   "cell_type": "markdown",
   "metadata": {},
   "source": [
    "You can provide your credentials using any of the following methods:\n",
    "- Default credentials\n",
    "- Environment variables\n",
    "- Credentials file\n"
   ]
  },
  {
   "cell_type": "markdown",
   "metadata": {},
   "source": [
    "## Default credentials"
   ]
  },
  {
   "cell_type": "markdown",
   "metadata": {},
   "source": [
    "Place the credentials.properties file into:\n",
    "  \n",
    "For Linux/MacOS: $HOME/.here/credentials.properties\n",
    "\n",
    "For Windows: %USERPROFILE%\\.here\\credentials.properties"
   ]
  },
  {
   "cell_type": "code",
   "execution_count": null,
   "metadata": {},
   "outputs": [],
   "source": [
    "# credentials will be picked up from credentials.properties file placed at default location.\n",
    "from here_location_services import LS\n",
    "\n",
    "# platform credentials will be picked from the default credentials file's location mentioned above\n",
    "# and api_key should not be set in env variable LS_API_KEY in order to use oauth credentials.\n",
    "ls = LS()"
   ]
  },
  {
   "cell_type": "markdown",
   "metadata": {},
   "source": [
    "## Environment Variables"
   ]
  },
  {
   "cell_type": "markdown",
   "metadata": {},
   "source": [
    "You can override default credentials by assigning values to the following environment variables:\n",
    "```\n",
    "HERE_USER_ID\n",
    "HERE_CLIENT_ID\n",
    "HERE_ACCESS_KEY_ID\n",
    "HERE_ACCESS_KEY_SECRET\n",
    "HERE_TOKEN_ENDPOINT_URL\n",
    "```"
   ]
  },
  {
   "cell_type": "code",
   "execution_count": null,
   "metadata": {},
   "outputs": [],
   "source": [
    "import os\n",
    "\n",
    "os.environ[\"HERE_USER_ID\"] = \"replace here.user.id value here\"\n",
    "os.environ[\"HERE_CLIENT_ID\"] = \"replace here.client.id value here\"\n",
    "os.environ[\"HERE_ACCESS_KEY_ID\"] = \"replace here.access.key.id value here\"\n",
    "os.environ[\"HERE_ACCESS_KEY_SECRET\"] = \"replace here.access.key.secret value here\"\n",
    "os.environ[\"HERE_TOKEN_ENDPOINT_URL\"] = \"replace here.token.endpoint.url value here\""
   ]
  },
  {
   "cell_type": "code",
   "execution_count": null,
   "metadata": {},
   "outputs": [],
   "source": [
    "from here_location_services import LS\n",
    "from here_location_services.platform.credentials import PlatformCredentials\n",
    "\n",
    "\n",
    "credentials = PlatformCredentials.from_env()\n",
    "\n",
    "ls = LS(platform_credentials=credentials)"
   ]
  },
  {
   "cell_type": "markdown",
   "metadata": {},
   "source": [
    "## Credentials File"
   ]
  },
  {
   "cell_type": "markdown",
   "metadata": {},
   "source": [
    "You can specify any credentials file as an alternative to that found in `~/.here/credentials.properties`. An error is generated if there is no file present at the path, or if the file is not properly formatted."
   ]
  },
  {
   "cell_type": "code",
   "execution_count": null,
   "metadata": {},
   "outputs": [],
   "source": [
    "from here_location_services import LS\n",
    "from here_location_services.platform.credentials import PlatformCredentials\n",
    "\n",
    "\n",
    "credentials = PlatformCredentials.from_credentials_file(\"<Path to file>\")\n",
    "\n",
    "ls = LS(platform_credentials=credentials)"
   ]
  }
 ],
 "metadata": {
  "kernelspec": {
   "display_name": "Python 3 (ipykernel)",
   "language": "python",
   "name": "python3"
  },
  "language_info": {
   "codemirror_mode": {
    "name": "ipython",
    "version": 3
   },
   "file_extension": ".py",
   "mimetype": "text/x-python",
   "name": "python",
   "nbconvert_exporter": "python",
   "pygments_lexer": "ipython3",
   "version": "3.9.6"
  }
 },
 "nbformat": 4,
 "nbformat_minor": 4
}
