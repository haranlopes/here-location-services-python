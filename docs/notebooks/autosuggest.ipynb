{
 "cells": [
  {
   "cell_type": "markdown",
   "metadata": {},
   "source": [
    "<div class=\"alert alert-block alert-warning\">\n",
    "<b>Warning:</b> Before running below cells please make sure you have API key. \n",
    "                Please see <a href=\"https://github.com/heremaps/here-location-services-python/blob/master/docs/notebooks/README.md\">README.md</a> for more info on API key.\n",
    "</div>"
   ]
  },
  {
   "cell_type": "code",
   "execution_count": null,
   "metadata": {},
   "outputs": [],
   "source": [
    "import os\n",
    "import json\n",
    "from here_location_services import LS"
   ]
  },
  {
   "cell_type": "code",
   "execution_count": null,
   "metadata": {},
   "outputs": [],
   "source": [
    "os.environ[\"LS_API_KEY\"] = \"MY-API-KEY\"  # replace your API key here."
   ]
  },
  {
   "cell_type": "code",
   "execution_count": null,
   "metadata": {},
   "outputs": [],
   "source": [
    "LS_API_KEY = os.environ.get(\"LS_API_KEY\")  # Get API KEY from environment.\n",
    "ls = LS(api_key=LS_API_KEY)\n",
    "\n",
    "autosuggest_response = ls.autosuggest(\n",
    "    query=\"bar\",\n",
    "    limit=5,\n",
    "    at=[\"-13.163068,-72.545128\"],\n",
    "    terms_limit=3,\n",
    ")"
   ]
  },
  {
   "cell_type": "code",
   "execution_count": null,
   "metadata": {},
   "outputs": [],
   "source": [
    "print(\"Query Items:\")\n",
    "for item in autosuggest_response.queryTerms:\n",
    "    print(json.dumps(item, indent=1, ensure_ascii=False))"
   ]
  },
  {
   "cell_type": "code",
   "execution_count": null,
   "metadata": {},
   "outputs": [],
   "source": [
    "print(\"Search Items:\")\n",
    "for item in autosuggest_response.items:\n",
    "    print(json.dumps(item, indent=1, ensure_ascii=False))"
   ]
  },
  {
   "cell_type": "code",
   "execution_count": null,
   "metadata": {},
   "outputs": [],
   "source": [
    "from here_map_widget import Map, MarkerCluster, ObjectLayer\n",
    "\n",
    "results = []\n",
    "for item in autosuggest_response.items:\n",
    "    if item[\"resultType\"] == \"place\":\n",
    "        results.append(\n",
    "            dict(\n",
    "                lat=item[\"position\"][\"lat\"],\n",
    "                lng=item[\"position\"][\"lng\"],\n",
    "                data=item[\"title\"],\n",
    "            )\n",
    "        )\n",
    "provider = MarkerCluster(data_points=results, show_bubble=True)\n",
    "layer = ObjectLayer(provider=provider)\n",
    "m = Map(\n",
    "    api_key=LS_API_KEY,\n",
    "    center=[-13.16, -72.52],\n",
    "    zoom=14,\n",
    ")\n",
    "m.add_layer(layer)\n",
    "m"
   ]
  }
 ],
 "metadata": {
  "interpreter": {
   "hash": "aee8b7b246df8f9039afb4144a1f6fd8d2ca17a180786b69acc140d282b71a49"
  },
  "kernelspec": {
   "display_name": "Python 3 (ipykernel)",
   "language": "python",
   "name": "python3"
  },
  "language_info": {
   "codemirror_mode": {
    "name": "ipython",
    "version": 3
   },
   "file_extension": ".py",
   "mimetype": "text/x-python",
   "name": "python",
   "nbconvert_exporter": "python",
   "pygments_lexer": "ipython3",
   "version": "3.9.6"
  }
 },
 "nbformat": 4,
 "nbformat_minor": 2
}
