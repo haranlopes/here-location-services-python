{
 "cells": [
  {
   "cell_type": "code",
   "execution_count": 1,
   "source": [
    "import os\n",
    "os.environ[\"LS_API_KEY\"] = \"MY-API-KEY\" # replace your API key here."
   ],
   "outputs": [],
   "metadata": {}
  },
  {
   "cell_type": "code",
   "execution_count": 14,
   "source": [
    "import os\n",
    "\n",
    "from here_location_services import LS\n",
    "\n",
    "LS_API_KEY = os.environ.get(\"LS_API_KEY\")  # Get API KEY from environment.\n",
    "ls = LS(api_key=LS_API_KEY)\n",
    "\n",
    "autosuggest_response = ls.autosuggest(\n",
    "    query=\"bar\",\n",
    "    limit=5,\n",
    "    at=[\"-13.163068,-72.545128\"],\n",
    "    terms_limit=3,\n",
    ")\n",
    "\n",
    "print(\"Query Items:\")\n",
    "for item in autosuggest_response.queryTerms:\n",
    "  print(item)\n",
    "\n",
    "print(\"Search Items:\")\n",
    "for item in autosuggest_response.items:\n",
    "  print(item)"
   ],
   "outputs": [
    {
     "output_type": "stream",
     "name": "stdout",
     "text": [
      "Query Items:\n",
      "{'term': 'Barceló', 'replaces': 'bar', 'start': 0, 'end': 3}\n",
      "{'term': 'Bardot', 'replaces': 'bar', 'start': 0, 'end': 3}\n",
      "{'term': 'Barista', 'replaces': 'bar', 'start': 0, 'end': 3}\n",
      "Search Items:\n",
      "{'title': 'bar', 'id': 'here:cm:ontology:bar_pub', 'resultType': 'categoryQuery', 'href': 'https://autosuggest.search.hereapi.com/v1/discover?q=bar&_ontology=bar_pub&at=-13.16307%2C-72.54513', 'highlights': {'title': [{'start': 0, 'end': 3}]}}\n",
      "{'title': 'El Mirador - Snack Bar', 'id': 'here:pds:place:6046msmj-b110bba85a894aca85bda8a5f8639bd9', 'resultType': 'place', 'address': {'label': 'El Mirador - Snack Bar, Carretera Hiram Bingham, 08680 Machu Picchu, Perú'}, 'position': {'lat': -13.16579, 'lng': -72.54314}, 'access': [{'lat': -13.16578, 'lng': -72.54315}], 'distance': 371, 'categories': [{'id': '100-1000-0001', 'name': 'Restaurante informal', 'primary': True}, {'id': '100-1000-0000', 'name': 'Restaurante'}], 'highlights': {'title': [{'start': 19, 'end': 22}], 'address': {'label': [{'start': 19, 'end': 22}]}}}\n",
      "{'title': 'Bar Pisco Brothers', 'id': 'here:pds:place:6046msmj-f80954cdf3b644389d0072d758d63210', 'resultType': 'place', 'address': {'label': 'Bar Pisco Brothers, Avenida Wakanki, 08681 Machu Picchu, Perú'}, 'position': {'lat': -13.15607, 'lng': -72.52229}, 'access': [{'lat': -13.15614, 'lng': -72.52241}], 'distance': 2593, 'categories': [{'id': '200-2000-0011', 'name': 'Bar o pub', 'primary': True}], 'highlights': {'title': [{'start': 0, 'end': 3}], 'address': {'label': [{'start': 0, 'end': 3}]}}}\n",
      "{'title': \"Bar & Snack Tortu's\", 'id': 'here:pds:place:6046msmj-1df092f0321242b992e8636c412962c0', 'resultType': 'place', 'address': {'label': \"Bar & Snack Tortu's, Calle Aymuraypa Tikan, 08681 Machu Picchu, Perú\"}, 'position': {'lat': -13.15571, 'lng': -72.52318}, 'access': [{'lat': -13.15585, 'lng': -72.52315}], 'distance': 2514, 'categories': [{'id': '200-2000-0011', 'name': 'Bar o pub', 'primary': True}], 'highlights': {'title': [{'start': 0, 'end': 3}], 'address': {'label': [{'start': 0, 'end': 3}]}}}\n",
      "{'title': 'Barnim (BAR), Brandenburg, Deutschland', 'id': 'here:cm:namedplace:20187485', 'resultType': 'administrativeArea', 'administrativeAreaType': 'county', 'address': {'label': 'Barnim, Brandenburg, Deutschland'}, 'position': {'lat': 52.83392, 'lng': 13.81271}, 'distance': 10928834, 'mapView': {'west': 13.37457, 'south': 52.54565, 'east': 14.15673, 'north': 53.05861}, 'highlights': {'title': [], 'address': {'label': []}}}\n"
     ]
    }
   ],
   "metadata": {}
  },
  {
   "cell_type": "code",
   "execution_count": 18,
   "source": [
    "from here_map_widget import Map, Marker, Group\n",
    "\n",
    "results = []\n",
    "for item in autosuggest_response.items:\n",
    "    if item[\"resultType\"] == \"place\":\n",
    "        results.append(\n",
    "            Marker(\n",
    "                lat=item[\"position\"][\"lat\"],\n",
    "                lng=item[\"position\"][\"lng\"],\n",
    "                data=item[\"title\"],\n",
    "            )\n",
    "        )\n",
    "group = Group(volatility=True)\n",
    "group.add_objects(results)\n",
    "m = Map(\n",
    "    api_key=LS_API_KEY,\n",
    "    center=[-13.163068,-72.545128],\n",
    "    zoom=14,\n",
    ")\n",
    "m.add_object(group)\n",
    "m"
   ],
   "outputs": [
    {
     "output_type": "stream",
     "name": "stdout",
     "text": [
      "Markers placed: 3\n"
     ]
    },
    {
     "output_type": "display_data",
     "data": {
      "text/plain": [
       "Map(api_key='TKURWbpJHcbzmWMrmTZwGAdSTLrX8WY1oddj4S4U-EM', basemap=None, center=[-13.163068, -72.545128], obje…"
      ],
      "application/vnd.jupyter.widget-view+json": {
       "version_major": 2,
       "version_minor": 0,
       "model_id": "35877ce533064bf0a88e5cb48f5ded91"
      }
     },
     "metadata": {}
    }
   ],
   "metadata": {}
  },
  {
   "cell_type": "code",
   "execution_count": null,
   "source": [],
   "outputs": [],
   "metadata": {}
  }
 ],
 "metadata": {
  "orig_nbformat": 4,
  "language_info": {
   "name": "python",
   "version": "3.9.6",
   "mimetype": "text/x-python",
   "codemirror_mode": {
    "name": "ipython",
    "version": 3
   },
   "pygments_lexer": "ipython3",
   "nbconvert_exporter": "python",
   "file_extension": ".py"
  },
  "kernelspec": {
   "name": "python3",
   "display_name": "Python 3.9.6 64-bit"
  },
  "interpreter": {
   "hash": "aee8b7b246df8f9039afb4144a1f6fd8d2ca17a180786b69acc140d282b71a49"
  }
 },
 "nbformat": 4,
 "nbformat_minor": 2
}