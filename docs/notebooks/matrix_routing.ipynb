{
 "cells": [
  {
   "cell_type": "markdown",
   "metadata": {},
   "source": [
    "<div class=\"alert alert-block alert-warning\">\n",
    "\t<b>Warning:</b> Before running below cells please make sure you have API key. \n",
    "                Please see \n",
    "\t<a href=\"https://github.com/heremaps/here-location-services-python/blob/master/docs/notebooks/README.md\">README.md</a> for more info on API key.\n",
    "\n",
    "</div>"
   ]
  },
  {
   "cell_type": "markdown",
   "metadata": {},
   "source": [
    "# HERE Matrix Routing API \n",
    "\n",
    "[Matrix Routing API v8](https://developer.here.com/documentation/matrix-routing-api/8.3.0/dev_guide/index.html)\n",
    "\n",
    "HERE Matrix Routing service calculates the travel duration and/or distances among multiple origins and destinations.\n",
    "Matrix routing can be done with synchronous and asynchrounous requests.\n",
    "\n",
    "Calculation of routing matrices in one of the following modes:\n",
    "\n",
    "- Flexible\n",
    "- Region\n",
    "- Profile\n",
    "\n",
    "The values of the `region_definition` and `profile` parameters determine which mode is used. The following table describes the capabilities and limitations of each mode.\n",
    "\n",
    "|Mode | region_definition parameter |profile parameter provided?|Custom Options & Time Awareness (incl. live traffic)|Unlimited region|\n",
    "|:-------|:------------------------------------|:---------|:-----------|:--------------------------------------------------------------------------|\n",
    "|Flexible|world                                |no        |yes         |yes                                                                        |\n",
    "|Region  |one of:<br />Circle<br />boundingBox<br />polygon<br />autoCircle|no        |yes         |no<br />origins and destinations must be within a region of max 400 km diameter|              \n",
    "|Profile |world                                |yes       |no          |yes           |\n",
    "\n",
    "\n",
    "\n",
    "Note that the combination of specifying a profile along with a region_definition not equal to world is not allowed."
   ]
  },
  {
   "cell_type": "markdown",
   "metadata": {},
   "source": [
    "## Flexible Mode\n",
    "\n",
    "Flexible mode provides capabilities such as Custom options, Time Awareness (including Live Traffic), Unlimited Region\n",
    "but it has Limited Matrix Size.\n",
    "Given a list of origins and a list of destinations, the service computes the shortest travel times or distances between every pair of origin and destination.\n",
    "These results make up the entries of the [routing matrix](https://developer.here.com/documentation/matrix-routing-api/8.3.0/dev_guide/topics/concepts/matrix.html).\n",
    "\n",
    "In order to provide support for custom routing options, time awareness, and routes of arbitrary length, Flexible Mode cannot benefit from the optimizations that give Region and Profile modes their high performance. Due to this performance limitation, Flexible Mode requests are limited to:\n",
    "\n",
    "\n",
    "at most 15 origins and 100 destinations (15 x 100)\n",
    "or at most 100 origins and 1 destination (100 x 1)\n",
    "\n",
    "### Formulating a request\n",
    "Flexible Mode is utilized when:\n",
    "\n",
    "the region definition  = WorldRegion\n",
    "and no profile parameter is specified\n",
    "The service applies live and historical traffic information unless explicitly disabled by setting departureTime to the special value any."
   ]
  },
  {
   "cell_type": "markdown",
   "metadata": {},
   "source": [
    "Below is an example of a 3x3 matrix request with the following origins and destinations:\n",
    "\n",
    "- San Francisco at (37.76, -122.42)\n",
    "- New York at (40.63, -74.09)\n",
    "- Austin at (30.26, -97.74)"
   ]
  },
  {
   "cell_type": "code",
   "execution_count": null,
   "metadata": {},
   "outputs": [],
   "source": [
    "import os\n",
    "\n",
    "from here_location_services import LS\n",
    "from here_location_services.config.matrix_routing_config import (\n",
    "    WorldRegion,\n",
    "    MATRIX_ATTRIBUTES,\n",
    ")\n",
    "from here_map_widget import Map, Marker, GeoJSON"
   ]
  },
  {
   "cell_type": "code",
   "execution_count": null,
   "metadata": {},
   "outputs": [],
   "source": [
    "LS_API_KEY = os.environ.get(\"LS_API_KEY\")  # Get API KEY from environment."
   ]
  },
  {
   "cell_type": "code",
   "execution_count": null,
   "metadata": {
    "scrolled": false
   },
   "outputs": [],
   "source": [
    "m = Map(api_key=LS_API_KEY, center=[39.0794, -99.0943], zoom=4.2)\n",
    "sf_marker = Marker(lat=37.76, lng=-122.42)\n",
    "ny_marker = Marker(lat=40.63, lng=-74.09)\n",
    "au_marker = Marker(lat=30.26, lng=-97.74)\n",
    "m.add_object(sf_marker)\n",
    "m.add_object(ny_marker)\n",
    "m.add_object(au_marker)\n",
    "m"
   ]
  },
  {
   "cell_type": "code",
   "execution_count": null,
   "metadata": {},
   "outputs": [],
   "source": [
    "# Create Location Services object using API KEY.\n",
    "\n",
    "ls = LS(api_key=LS_API_KEY)"
   ]
  },
  {
   "cell_type": "code",
   "execution_count": null,
   "metadata": {},
   "outputs": [],
   "source": [
    "origins = [\n",
    "    {\"lat\": 37.76, \"lng\": -122.42},\n",
    "    {\"lat\": 40.63, \"lng\": -74.09},\n",
    "    {\"lat\": 30.26, \"lng\": -97.74},\n",
    "]\n",
    "region_definition = WorldRegion()\n",
    "matrix_attributes = [MATRIX_ATTRIBUTES.distances, MATRIX_ATTRIBUTES.travelTimes]"
   ]
  },
  {
   "cell_type": "code",
   "execution_count": null,
   "metadata": {},
   "outputs": [],
   "source": [
    "result = ls.matrix(\n",
    "    origins=origins,\n",
    "    region_definition=region_definition,\n",
    "    matrix_attributes=matrix_attributes,\n",
    ")"
   ]
  },
  {
   "cell_type": "code",
   "execution_count": null,
   "metadata": {},
   "outputs": [],
   "source": [
    "result.matrix"
   ]
  },
  {
   "cell_type": "code",
   "execution_count": null,
   "metadata": {},
   "outputs": [],
   "source": [
    "distance_matrix= result.to_distnaces_matrix()\n",
    "distance_matrix"
   ]
  },
  {
   "cell_type": "code",
   "execution_count": null,
   "metadata": {},
   "outputs": [],
   "source": [
    "travel_times_matrix= result.to_travel_times_matrix()\n",
    "travel_times_matrix"
   ]
  },
  {
   "cell_type": "markdown",
   "metadata": {},
   "source": [
    "## Region Mode\n",
    "\n",
    "This section refers to calculating matrices with custom options using a limited sized region.\n",
    "Region is limited to max. 400km diameter.\n",
    "By restricting the calculation to a specific region of at most 400 km diameter, it is possible to specify different options to take into account during calculation. The service applies live and historical traffic information unless explicitly disabled by setting `departure_time` to the special value `any`.\n",
    "\n",
    "Region Mode supports:\n",
    "- Custom options\n",
    "- Time Awareness (including Live Traffic), using a snapshot of time at departure\n",
    "- Matrix Sizes up to 10,000 x 10,000\n",
    "- Region limited to max. 400km diameter"
   ]
  },
  {
   "cell_type": "markdown",
   "metadata": {},
   "source": [
    "### BoundingBox region definition\n",
    "Below is an example of a simple 3 x 3 matrix in Berlin, Germany with these origins and destinations:\n",
    "\n",
    "- Alexanderplatz at (52.52103, 13.41268)\n",
    "- Brandenburg Gate at (52.51628, 13.37771)\n",
    "- Tempelhof Field at (52.47342, 13.40357)\n",
    "\n",
    "To calculate a car distance matrix, you can use the below code. \n",
    "Since the request does not specify a destinations list, the origins are taken as destinations and the resulting matrix is a 3 x 3 matrix. \n",
    "The region definition is a bounding box around the points with a small margin added to be able to properly route in the vicinity of the points. \n",
    "By default, the service calculates a travel times matrix, but since we want to get distances in the response instead of times, the request specifies the `matrix_attributes` property with the value `distances`."
   ]
  },
  {
   "cell_type": "code",
   "execution_count": null,
   "metadata": {
    "scrolled": false
   },
   "outputs": [],
   "source": [
    "from here_map_widget import Map, Bbox, Rectangle, Marker\n",
    "import os\n",
    "\n",
    "m = Map(api_key=os.environ['LS_API_KEY'], center=[52.5034, 13.4079], zoom=11.4)\n",
    "\n",
    "style = {\"strokeColor\": \"#829\", \"lineWidth\": 4}\n",
    "\n",
    "bbox = Bbox(top=52.53, left=13.35, bottom=52.46, right=13.42)\n",
    "rectangle = Rectangle(bbox=bbox, style=style, draggable=True)\n",
    "m.add_object(rectangle)\n",
    "alex_marker = Marker(lat=52.52103, lng=13.41268)\n",
    "bran_marker = Marker(lat=52.51628, lng=13.37771)\n",
    "temp_marker = Marker(lat=52.47342, lng=13.40357)\n",
    "m.add_object(alex_marker)\n",
    "m.add_object(bran_marker)\n",
    "m.add_object(temp_marker)\n",
    "m"
   ]
  },
  {
   "cell_type": "code",
   "execution_count": null,
   "metadata": {},
   "outputs": [],
   "source": [
    "from here_location_services import LS\n",
    "from here_location_services.config.matrix_routing_config import (\n",
    "    BoundingBoxRegion,\n",
    "    AutoCircleRegion,\n",
    "    MATRIX_ATTRIBUTES,\n",
    "    PROFILE,\n",
    "    WorldRegion\n",
    ")\n",
    "\n",
    "LS_API_KEY = os.environ.get(\"LS_API_KEY\")  # Get API KEY from environment.\n",
    "ls = LS(api_key=LS_API_KEY)  # Create Location Services object using API KEY."
   ]
  },
  {
   "cell_type": "code",
   "execution_count": null,
   "metadata": {},
   "outputs": [],
   "source": [
    "origins = [\n",
    "    {\"lat\": 52.52103, \"lng\": 13.41268},\n",
    "    {\"lat\": 52.51628, \"lng\": 13.37771},\n",
    "    {\"lat\": 52.47342, \"lng\": 13.40357},\n",
    "]\n",
    "region_definition = BoundingBoxRegion(north=52.53, south=52.46, west=13.35, east=13.42)\n",
    "matrix_attributes = [MATRIX_ATTRIBUTES.distances]"
   ]
  },
  {
   "cell_type": "code",
   "execution_count": null,
   "metadata": {},
   "outputs": [],
   "source": [
    "result = ls.matrix(\n",
    "    origins=origins,\n",
    "    region_definition=region_definition,\n",
    "    matrix_attributes=matrix_attributes,\n",
    "    async_req=True\n",
    ")"
   ]
  },
  {
   "cell_type": "code",
   "execution_count": null,
   "metadata": {},
   "outputs": [],
   "source": [
    "result.matrix"
   ]
  },
  {
   "cell_type": "code",
   "execution_count": null,
   "metadata": {},
   "outputs": [],
   "source": [
    "distance_matrix= result.to_distnaces_matrix()\n",
    "distance_matrix"
   ]
  },
  {
   "cell_type": "markdown",
   "metadata": {},
   "source": [
    "### AutoCircle region definition\n",
    "\n",
    "Instead of defining a bounding box around the origins, you can request for a circle to be automatically derived. The request below is for the same as the one above, but using the AutoCircle feature. Since the margin field is not provided, the service uses a default value of 10 kilometers."
   ]
  },
  {
   "cell_type": "code",
   "execution_count": null,
   "metadata": {},
   "outputs": [],
   "source": [
    "region_definition = AutoCircleRegion()\n",
    "\n",
    "result = ls.matrix(\n",
    "    origins=origins,\n",
    "    region_definition=region_definition,\n",
    "    matrix_attributes=matrix_attributes,\n",
    "    async_req=True\n",
    ")"
   ]
  },
  {
   "cell_type": "code",
   "execution_count": null,
   "metadata": {},
   "outputs": [],
   "source": [
    "resp = result.response\n",
    "resp"
   ]
  },
  {
   "cell_type": "code",
   "execution_count": null,
   "metadata": {},
   "outputs": [],
   "source": [
    "auto_circle = resp[\"regionDefinition\"]\n",
    "center = auto_circle[\"center\"]\n",
    "radius = auto_circle[\"radius\"]"
   ]
  },
  {
   "cell_type": "code",
   "execution_count": null,
   "metadata": {},
   "outputs": [],
   "source": [
    "# AutoCircle Region visualisation\n",
    "\n",
    "from here_map_widget import Circle, Point\n",
    "\n",
    "m = Map(api_key=os.environ[\"LS_API_KEY\"], center=[center[\"lat\"],center[\"lng\"]] , zoom=10.4)\n",
    "\n",
    "style = {\"strokeColor\": \"#829\", \"lineWidth\": 4}\n",
    "\n",
    "point = Point(lat=center[\"lat\"], lng=center[\"lng\"])\n",
    "circle = Circle(center=point, radius=radius, style=style)\n",
    "m.add_object(circle)\n",
    "alex_marker = Marker(lat=52.52103, lng=13.41268)\n",
    "bran_marker = Marker(lat=52.51628, lng=13.37771)\n",
    "temp_marker = Marker(lat=52.47342, lng=13.40357)\n",
    "m.add_object(alex_marker)\n",
    "m.add_object(bran_marker)\n",
    "m.add_object(temp_marker)\n",
    "m"
   ]
  },
  {
   "cell_type": "markdown",
   "metadata": {},
   "source": [
    "## Profile Mode\n",
    "\n",
    "Profile mode supports:\n",
    "- unlimited region\n",
    "-  Matrix Sizes up to 10,000 x 10,000\n",
    "\n",
    "Profile mode doesnot supports: \n",
    "- Custom Options\n",
    "- Time Awareness (including Live Traffic)\n",
    "\n",
    "This section refers to calculating matrices with routes of arbitrary length, using one of the supported profiles. If you want to define custom options, see `Flexible Mode`."
   ]
  },
  {
   "cell_type": "markdown",
   "metadata": {},
   "source": [
    "The special variant `world` needs to be set as region definition. No additional request options or departure_time can provided except for matrix_attributes.\n",
    "Below is an example of a 7 x 7 matrix request with these origins and destinations:\n",
    "\n",
    "- Berlin at (52.54, 13.40)\n",
    "- Kyiv at (50.43, 30.52)\n",
    "- London at (51.50, -0.08)\n",
    "- Madrid at (40.40, -3.68)\n",
    "- Moscow at (55.75, 37.60)\n",
    "- Paris at (48.87, 2.33)\n",
    "- Rome at (41.90, 12.48)\n",
    "\n",
    "To calculate a car distance matrix, you can use the code below. Since the request does not specify the destinations array, the origins are taken as destinations and the resulting matrix is a 7 x 7 matrix. The region definition is the special variant world. In the request, we use the profile carFast which uses transport mode car and optimizes the route calculations for travel time. By default the service calculates a travel times matrix, but since we want to get distances in the response instead of times, the request specifies the matrix_attributes property with the value distances."
   ]
  },
  {
   "cell_type": "code",
   "execution_count": null,
   "metadata": {},
   "outputs": [],
   "source": [
    "from here_map_widget import Map, Bbox, Rectangle, Marker\n",
    "import os\n",
    "\n",
    "m = Map(api_key=os.environ[\"LS_API_KEY\"], center=[49.6193, 13.5609], zoom=4.2)\n",
    "\n",
    "berlin_marker = Marker(lat=52.54, lng=13.40)\n",
    "kyiv_marker = Marker(lat=50.43, lng=30.52)\n",
    "london_marker = Marker(lat=51.50, lng=-0.08)\n",
    "madrid_marker = Marker(lat=40.40, lng=-3.68)\n",
    "moscow_marker = Marker(lat=55.75, lng=37.60)\n",
    "paris_marker = Marker(lat=48.87, lng=2.33)\n",
    "rome_marker = Marker(lat=41.90, lng=12.48)\n",
    "m.add_objects(\n",
    "    [\n",
    "        berlin_marker,\n",
    "        kyiv_marker,\n",
    "        london_marker,\n",
    "        madrid_marker,\n",
    "        moscow_marker,\n",
    "        paris_marker,\n",
    "        rome_marker,\n",
    "    ]\n",
    ")\n",
    "m"
   ]
  },
  {
   "cell_type": "code",
   "execution_count": null,
   "metadata": {},
   "outputs": [],
   "source": [
    "origins = [\n",
    "    {\"lat\": 52.54, \"lng\": 13.40},\n",
    "    {\"lat\": 50.43, \"lng\": 30.52},\n",
    "    {\"lat\": 51.50, \"lng\": -0.08},\n",
    "    {\"lat\": 40.40, \"lng\": -3.68},\n",
    "    {\"lat\": 55.75, \"lng\": 37.60},\n",
    "    {\"lat\": 48.87, \"lng\": 2.33},\n",
    "    {\"lat\": 41.90, \"lng\": 12.48},\n",
    "]\n",
    "\n",
    "profile = PROFILE.carFast\n",
    "region_definition = WorldRegion()\n",
    "matrix_attributes = [MATRIX_ATTRIBUTES.distances]"
   ]
  },
  {
   "cell_type": "code",
   "execution_count": null,
   "metadata": {},
   "outputs": [],
   "source": [
    "result = ls.matrix(\n",
    "    origins=origins,\n",
    "    region_definition=region_definition,\n",
    "    matrix_attributes=matrix_attributes,\n",
    "    async_req=True\n",
    ")"
   ]
  },
  {
   "cell_type": "markdown",
   "metadata": {},
   "source": [
    "The response corresponds to this matrix with entries in meters:"
   ]
  },
  {
   "cell_type": "code",
   "execution_count": null,
   "metadata": {},
   "outputs": [],
   "source": [
    "result.to_distnaces_matrix()"
   ]
  }
 ],
 "metadata": {
  "kernelspec": {
   "display_name": "Python 3",
   "language": "python",
   "name": "python3"
  },
  "language_info": {
   "codemirror_mode": {
    "name": "ipython",
    "version": 3
   },
   "file_extension": ".py",
   "mimetype": "text/x-python",
   "name": "python",
   "nbconvert_exporter": "python",
   "pygments_lexer": "ipython3",
   "version": "3.8.5"
  }
 },
 "nbformat": 4,
 "nbformat_minor": 4
}
