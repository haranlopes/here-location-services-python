{
 "cells": [
  {
   "cell_type": "code",
   "execution_count": null,
   "source": [
    "import os\n",
    "\n",
    "os.environ[\"LS_API_KEY\"] = \"MY-API-KEY\"  # replace your API key here."
   ],
   "outputs": [],
   "metadata": {}
  },
  {
   "cell_type": "code",
   "execution_count": null,
   "source": [
    "import os\n",
    "\n",
    "from here_location_services import LS\n",
    "from here_map_widget import Map, MarkerCluster, ObjectLayer\n",
    "from here_location_services.config.dest_weather_config import DEST_WEATHER_PRODUCT\n",
    "\n",
    "\n",
    "LS_API_KEY = os.environ.get(\"LS_API_KEY\")\n",
    "ls = LS(api_key=LS_API_KEY)\n",
    "\n",
    "result1 = ls.get_dest_weather(at=[19.1503, 72.8530], products=[DEST_WEATHER_PRODUCT.observation])\n",
    "\n",
    "results = []\n",
    "m = Map(\n",
    "    api_key=LS_API_KEY,\n",
    "    center=[19.1621, 73.0008],\n",
    "    zoom=7,\n",
    ")\n",
    "for observation in result1.places[0][\"observations\"]:\n",
    "    results.append(\n",
    "        dict(\n",
    "            lat=observation[\"place\"][\"location\"][\"lat\"],\n",
    "            lng=observation[\"place\"][\"location\"][\"lng\"],\n",
    "            data=observation[\"description\"] + \" \" + str(observation[\"temperature\"]) + \"C\",\n",
    "        )\n",
    "    )\n",
    "\n",
    "provider = MarkerCluster(data_points=results, show_bubble=True)\n",
    "layer = ObjectLayer(provider=provider)\n",
    "m.add_layer(layer)\n",
    "m"
   ],
   "outputs": [],
   "metadata": {}
  },
  {
   "cell_type": "code",
   "execution_count": null,
   "source": [
    "from geojson import Point\n",
    "from datetime import datetime\n",
    "\n",
    "result2 = ls.get_weather_alerts(\n",
    "    geometry=Point(coordinates=[15.256, 23.456]),\n",
    "    start_time=datetime.now(),\n",
    "    width=3000,\n",
    ")\n",
    "\n",
    "print(result2)"
   ],
   "outputs": [],
   "metadata": {}
  },
  {
   "cell_type": "code",
   "execution_count": null,
   "source": [],
   "outputs": [],
   "metadata": {}
  }
 ],
 "metadata": {
  "orig_nbformat": 4,
  "language_info": {
   "name": "python",
   "version": "3.9.6",
   "mimetype": "text/x-python",
   "codemirror_mode": {
    "name": "ipython",
    "version": 3
   },
   "pygments_lexer": "ipython3",
   "nbconvert_exporter": "python",
   "file_extension": ".py"
  },
  "kernelspec": {
   "name": "python3",
   "display_name": "Python 3.9.6 64-bit"
  },
  "interpreter": {
   "hash": "aee8b7b246df8f9039afb4144a1f6fd8d2ca17a180786b69acc140d282b71a49"
  }
 },
 "nbformat": 4,
 "nbformat_minor": 2
}