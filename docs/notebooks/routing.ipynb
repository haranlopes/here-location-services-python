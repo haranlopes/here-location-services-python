{
 "cells": [
  {
   "cell_type": "markdown",
   "metadata": {},
   "source": [
    "<div class=\"alert alert-block alert-warning\">\n",
    "\t<b>Warning:</b> Before running below cells please make sure you have API key. \n",
    "                Please see \n",
    "\t<a href=\"https://github.com/heremaps/here-location-services-python/blob/master/docs/notebooks/README.md\">README.md</a> for more info on API key.\n",
    "\n",
    "</div>"
   ]
  },
  {
   "cell_type": "code",
   "execution_count": null,
   "metadata": {},
   "outputs": [],
   "source": [
    "import os\n",
    "\n",
    "from here_location_services import LS\n",
    "from here_location_services.config.routing_config import ROUTING_RETURN\n",
    "from here_map_widget import Map, Marker, GeoJSON"
   ]
  },
  {
   "cell_type": "code",
   "execution_count": null,
   "metadata": {},
   "outputs": [],
   "source": [
    "# Create Location Services object using API KEY.\n",
    "\n",
    "LS_API_KEY = os.environ.get(\"LS_API_KEY\")  # Get API KEY from environment.\n",
    "\n",
    "ls = LS(api_key=LS_API_KEY)"
   ]
  },
  {
   "cell_type": "markdown",
   "metadata": {},
   "source": [
    "# Calculate Route\n",
    "\n",
    "## Car Route\n",
    "Calculate car route between origin and destination."
   ]
  },
  {
   "cell_type": "code",
   "execution_count": null,
   "metadata": {},
   "outputs": [],
   "source": [
    "result = ls.car_route(\n",
    "    origin=[52.51375, 13.42462],\n",
    "    destination=[52.52332, 13.42800],\n",
    "    return_results=[\n",
    "        ROUTING_RETURN.polyline,\n",
    "        ROUTING_RETURN.elevation,\n",
    "        ROUTING_RETURN.instructions,\n",
    "        ROUTING_RETURN.actions,\n",
    "    ],\n",
    ")"
   ]
  },
  {
   "cell_type": "code",
   "execution_count": null,
   "metadata": {},
   "outputs": [],
   "source": [
    "geo_json = result.to_geojson()\n",
    "data = geo_json\n",
    "geo_layer = GeoJSON(data=data, style={\"lineWidth\": 5})\n",
    "\n",
    "m = Map(api_key=LS_API_KEY, center=[52.5207, 13.4283], zoom=14)\n",
    "origin_marker = Marker(lat=52.51375, lng=13.42462)\n",
    "dest_marker = Marker(lat=52.52332, lng=13.42800)\n",
    "m.add_layer(geo_layer)\n",
    "m.add_object(origin_marker)\n",
    "m.add_object(dest_marker)\n",
    "m"
   ]
  },
  {
   "cell_type": "markdown",
   "metadata": {},
   "source": [
    "## Via Route"
   ]
  },
  {
   "cell_type": "code",
   "execution_count": null,
   "metadata": {},
   "outputs": [],
   "source": [
    "result = ls.car_route(\n",
    "    origin=[52.51375, 13.42462],\n",
    "    destination=[52.52332, 13.42800],\n",
    "    via=[(52.52426, 13.43000)],\n",
    "    return_results=[\n",
    "        ROUTING_RETURN.polyline,\n",
    "        ROUTING_RETURN.elevation,\n",
    "        ROUTING_RETURN.instructions,\n",
    "        ROUTING_RETURN.actions,\n",
    "    ],\n",
    ")\n",
    "\n",
    "geo_json = result.to_geojson()\n",
    "data = geo_json\n",
    "geo_layer = GeoJSON(data=data, style={\"lineWidth\": 5})\n",
    "\n",
    "m = Map(api_key=LS_API_KEY, center=[52.5207, 13.4283], zoom=14)\n",
    "origin_marker = Marker(lat=52.51375, lng=13.42462)\n",
    "dest_marker = Marker(lat=52.52332, lng=13.42800)\n",
    "via_marker = Marker(lat=52.52426, lng=13.43000)\n",
    "m.add_layer(geo_layer)\n",
    "m.add_object(origin_marker)\n",
    "m.add_object(dest_marker)\n",
    "m.add_object(via_marker)\n",
    "m"
   ]
  }
 ],
 "metadata": {
  "kernelspec": {
   "display_name": "Python 3",
   "language": "python",
   "name": "python3"
  },
  "language_info": {
   "codemirror_mode": {
    "name": "ipython",
    "version": 3
   },
   "file_extension": ".py",
   "mimetype": "text/x-python",
   "name": "python",
   "nbconvert_exporter": "python",
   "pygments_lexer": "ipython3",
   "version": "3.8.5"
  }
 },
 "nbformat": 4,
 "nbformat_minor": 4
}
