{
 "cells": [
  {
   "cell_type": "markdown",
   "metadata": {},
   "source": [
    "# HERE Routing API\n",
    "[Routing API v8](https://developer.here.com/documentation/routing-api/8.20.3/dev_guide/index.html)"
   ]
  },
  {
   "cell_type": "markdown",
   "metadata": {},
   "source": [
    "<div class=\"alert alert-block alert-warning\">\n",
    "\t<b>Warning:</b> Before running below cells please make sure you have API key. \n",
    "                Please see \n",
    "\t<a href=\"https://github.com/heremaps/here-location-services-python/blob/master/docs/notebooks/README.md\">README.md</a> for more info on API key.\n",
    "\n",
    "</div>"
   ]
  },
  {
   "cell_type": "code",
   "execution_count": null,
   "metadata": {},
   "outputs": [],
   "source": [
    "import os\n",
    "from datetime import datetime\n",
    "\n",
    "from here_location_services import LS\n",
    "from here_location_services.config.routing_config import ROUTING_RETURN, Via\n",
    "from here_location_services.config.matrix_routing_config import Truck, SHIPPED_HAZARDOUS_GOODS\n",
    "from here_map_widget import Map, Marker, GeoJSON, DomMarker, DomIcon"
   ]
  },
  {
   "cell_type": "code",
   "execution_count": null,
   "metadata": {},
   "outputs": [],
   "source": [
    "# Create Location Services object using API KEY.\n",
    "\n",
    "LS_API_KEY = os.environ.get(\"LS_API_KEY\")  # Get API KEY from environment.\n",
    "\n",
    "ls = LS(api_key=LS_API_KEY)"
   ]
  },
  {
   "cell_type": "markdown",
   "metadata": {},
   "source": [
    "## Calculate Route\n",
    "A basic route request consists of an origin, destination. The resulting response will contain a list of routes. The list may be empty if no routes were possible.\n",
    "\n",
    "The origin and destination can be a latitude and longitude pairs and represent the beginning and end of the requested route.\n",
    "\n",
    "If the request specifies alternatives, the response may provide additional routes.\n",
    "\n",
    "If the request specifies return with summary or travel_summary, then the sections will provide additional summary information such as length and duration.\n",
    "\n",
    "A route will include one or more sections."
   ]
  },
  {
   "cell_type": "markdown",
   "metadata": {},
   "source": [
    "### Car Route\n",
    "Calculate car route between origin and destination."
   ]
  },
  {
   "cell_type": "code",
   "execution_count": null,
   "metadata": {},
   "outputs": [],
   "source": [
    "result = ls.car_route(\n",
    "    origin=[52.51375, 13.42462],\n",
    "    destination=[52.52332, 13.42800],\n",
    "    return_results=[\n",
    "        ROUTING_RETURN.polyline,\n",
    "        ROUTING_RETURN.elevation,\n",
    "        ROUTING_RETURN.instructions,\n",
    "        ROUTING_RETURN.actions,\n",
    "    ],\n",
    ")"
   ]
  },
  {
   "cell_type": "code",
   "execution_count": null,
   "metadata": {},
   "outputs": [],
   "source": [
    "geo_json = result.to_geojson()\n",
    "data = geo_json\n",
    "geo_layer = GeoJSON(data=data, style={\"lineWidth\": 5})\n",
    "\n",
    "m = Map(api_key=LS_API_KEY, center=[52.5207, 13.4283], zoom=14)\n",
    "origin_marker = Marker(lat=52.51375, lng=13.42462)\n",
    "dest_marker = Marker(lat=52.52332, lng=13.42800)\n",
    "m.add_layer(geo_layer)\n",
    "m.add_object(origin_marker)\n",
    "m.add_object(dest_marker)\n",
    "m"
   ]
  },
  {
   "cell_type": "markdown",
   "metadata": {},
   "source": [
    "## Route via Intermediate Waypoint\n",
    "\n",
    "For a detour from the best route, specify the via parameter in your request.\n",
    "\n",
    "For a list of via waypoints, the resulting route looks as follows:\n",
    "\n",
    "1. from the origin to the first via\n",
    "2. to any subsequent via in the requested order\n",
    "3. the last via until the destination"
   ]
  },
  {
   "cell_type": "code",
   "execution_count": null,
   "metadata": {},
   "outputs": [],
   "source": [
    "result = ls.car_route(\n",
    "    origin=[52.51375, 13.42462],\n",
    "    destination=[52.52332, 13.42800],\n",
    "    via=[Via(lat=52.52426, lng=13.43000)],\n",
    "    return_results=[\n",
    "        ROUTING_RETURN.polyline,\n",
    "        ROUTING_RETURN.elevation,\n",
    "        ROUTING_RETURN.instructions,\n",
    "        ROUTING_RETURN.actions,\n",
    "    ],\n",
    ")\n",
    "\n",
    "geo_json = result.to_geojson()\n",
    "data = geo_json\n",
    "geo_layer = GeoJSON(data=data, style={\"lineWidth\": 5})\n",
    "\n",
    "m = Map(api_key=LS_API_KEY, center=[52.5207, 13.4283], zoom=14)\n",
    "origin_marker = Marker(lat=52.51375, lng=13.42462)\n",
    "dest_marker = Marker(lat=52.52332, lng=13.42800)\n",
    "via_marker = Marker(lat=52.52426, lng=13.43000)\n",
    "m.add_layer(geo_layer)\n",
    "m.add_object(origin_marker)\n",
    "m.add_object(dest_marker)\n",
    "m.add_object(via_marker)\n",
    "m"
   ]
  },
  {
   "cell_type": "markdown",
   "metadata": {},
   "source": [
    "## Route to the correct side of street.\n",
    "\n",
    "A taxi-driver would like to drop off the passenger \"at the doorstep\". This requires the route to go the correct side of the street. To arrive at the destination on the correct side-of-street, specify the sideOfStreetHint parameter for the destination_place_options.\n",
    "\n",
    "sideOfStreetHint accepts latitude, longitude as input. The value expected to be used for this, normally, is the position of the PoI (Point of Interest) beside the road. The resulting route will try to take this hint into account and route you to the correct side of the street."
   ]
  },
  {
   "cell_type": "code",
   "execution_count": null,
   "metadata": {},
   "outputs": [],
   "source": [
    "from here_location_services.config.routing_config import PlaceOptions\n",
    "\n",
    "dpo = PlaceOptions(sideof_street_hint=[52.500541,13.363060])\n",
    "\n",
    "result = ls.car_route(\n",
    "    origin=[52.511985,13.240523],\n",
    "    destination=[52.500541,13.363060],\n",
    "    return_results=[\n",
    "        ROUTING_RETURN.polyline,\n",
    "        ROUTING_RETURN.elevation,\n",
    "        ROUTING_RETURN.summary\n",
    "    ],\n",
    "    destination_place_options=dpo\n",
    ")"
   ]
  },
  {
   "cell_type": "code",
   "execution_count": null,
   "metadata": {},
   "outputs": [],
   "source": [
    "geo_json = result.to_geojson()\n",
    "data = geo_json\n",
    "geo_layer = GeoJSON(data=data, style={\"lineWidth\": 5, \"strokeColor\": \"purple\"})\n",
    "\n",
    "m = Map(api_key=LS_API_KEY, center=[52.5076, 13.3451], zoom=14)\n",
    "icon1 = DomIcon(\n",
    "    element='<div style=\"user-select: none; cursor: default;\"> \\\n",
    "<div style=\"color: red; background-color: blue; border: 2px solid black;'\n",
    "    + \"font: 12px / 12px arial; padding-top: 2px; padding-left: 4px; width: 20px;\"\n",
    "    + 'height: 20px; margin-top: -10px; margin-left: -10px;\">O</div> \\\n",
    "</div>'\n",
    ")\n",
    "icon2 = DomIcon(\n",
    "    element='<div style=\"user-select: none; cursor: default;\"> \\\n",
    "<div style=\"color: red; background-color: blue; border: 2px solid black;'\n",
    "    + \"font: 12px / 12px arial; padding-top: 2px; padding-left: 4px; width: 20px;\"\n",
    "    + 'height: 20px; margin-top: -10px; margin-left: -10px;\">D</div> \\\n",
    "</div>'\n",
    ")\n",
    "origin_marker = DomMarker(lat=52.511985, lng=13.240523, icon=icon1)\n",
    "dest_marker = DomMarker(lat=52.500541, lng=13.363060, icon=icon2)\n",
    "m.add_objects([origin_marker, dest_marker])\n",
    "m.add_layer(geo_layer)"
   ]
  },
  {
   "cell_type": "code",
   "execution_count": null,
   "metadata": {},
   "outputs": [],
   "source": [
    "result2 = ls.car_route(\n",
    "    origin=[52.511985,13.240523],\n",
    "    destination=[52.500541,13.363060],\n",
    "    return_results=[\n",
    "        ROUTING_RETURN.polyline,\n",
    "        ROUTING_RETURN.elevation,\n",
    "        ROUTING_RETURN.summary\n",
    "    ],\n",
    ")"
   ]
  },
  {
   "cell_type": "code",
   "execution_count": null,
   "metadata": {},
   "outputs": [],
   "source": [
    "geo_json2 = result2.to_geojson()\n",
    "data2 = geo_json2\n",
    "geo_layer2 = GeoJSON(data=data2, style={\"lineWidth\": 5, \"strokeColor\": \"blue\"})\n",
    "m.add_layer(geo_layer2)\n",
    "m"
   ]
  },
  {
   "cell_type": "markdown",
   "metadata": {},
   "source": [
    "In the above example we can see that purple route is using `sideof_street_hint` using destination place options and blue route is without using it."
   ]
  },
  {
   "cell_type": "markdown",
   "metadata": {},
   "source": [
    "## Truck Routing\n",
    "The Truck Routing features of the API extend router with truck-specific options."
   ]
  },
  {
   "cell_type": "code",
   "execution_count": null,
   "metadata": {},
   "outputs": [],
   "source": [
    "truck = Truck(\n",
    "    shipped_hazardous_goods=[\n",
    "        SHIPPED_HAZARDOUS_GOODS.combustible,\n",
    "        SHIPPED_HAZARDOUS_GOODS.explosive,\n",
    "    ],\n",
    "    gross_weight=4000,\n",
    ")\n",
    "\n",
    "result = ls.truck_route(\n",
    "    origin=[50.892387, 20.655124],\n",
    "    destination=[50.894911, 20.64899],\n",
    "    departure_time=datetime(2020, 10, 28, 0, 1, 0),\n",
    "    truck=truck,\n",
    ")"
   ]
  },
  {
   "cell_type": "code",
   "execution_count": null,
   "metadata": {},
   "outputs": [],
   "source": [
    "result.routes"
   ]
  }
 ],
 "metadata": {
  "kernelspec": {
   "display_name": "Python 3",
   "language": "python",
   "name": "python3"
  },
  "language_info": {
   "codemirror_mode": {
    "name": "ipython",
    "version": 3
   },
   "file_extension": ".py",
   "mimetype": "text/x-python",
   "name": "python",
   "nbconvert_exporter": "python",
   "pygments_lexer": "ipython3",
   "version": "3.8.5"
  }
 },
 "nbformat": 4,
 "nbformat_minor": 4
}
