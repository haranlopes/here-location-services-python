{
 "cells": [
  {
   "cell_type": "markdown",
   "source": [
    "# Example Use-Case\n",
    "Let's look at a use-case - Two friends living in different parts of a city want to hang out at a restaurant. Due to busy schedules, each can only drive at the max of 30 minutes away from their house.  Let's see how we can use different Here Location Services to resolve their dilemma. "
   ],
   "metadata": {}
  },
  {
   "cell_type": "markdown",
   "source": [
    "<div class=\"alert alert-block alert-warning\">\n",
    "<b>Warning:</b> Before running below cells please make sure you have API key. \n",
    "                Please see <a href=\"https://github.com/heremaps/here-location-services-python/blob/master/docs/notebooks/README.md\">README.md</a> for more info on API key.\n",
    "</div>"
   ],
   "metadata": {}
  },
  {
   "cell_type": "code",
   "execution_count": null,
   "source": [
    "import os\n",
    "os.environ[\"LS_API_KEY\"] = \"MY-API-KEY\" # replace your API key here."
   ],
   "outputs": [],
   "metadata": {}
  },
  {
   "cell_type": "code",
   "execution_count": 7,
   "source": [
    "import os\n",
    "from datetime import datetime\n",
    "\n",
    "from here_location_services import LS\n",
    "from here_map_widget import Map, Marker, GeoJSON, Group\n",
    "from here_location_services.config.isoline_routing_config import RANGE_TYPE, ISOLINE_ROUTING_TRANSPORT_MODE\n",
    "\n",
    "\n",
    "LS_API_KEY = os.environ.get(\"LS_API_KEY\")\n",
    "ls = LS(api_key=LS_API_KEY)\n",
    "\n",
    "result1 = ls.calculate_isoline(\n",
    "    origin=[19.1503, 72.8530],\n",
    "    range=\"1800\",\n",
    "    departure_time=datetime.now(),\n",
    "    range_type=RANGE_TYPE.time,\n",
    "    transport_mode=ISOLINE_ROUTING_TRANSPORT_MODE.car,\n",
    ")\n",
    "\n",
    "data1 = result1.to_geojson()\n",
    "first_center = Marker(lat=19.1503, lng=72.8530)\n",
    "geo_layer1 = GeoJSON(data=data1)\n",
    "result2 = ls.calculate_isoline(\n",
    "    origin=[19.1621, 73.0008],\n",
    "    range=\"1800\",\n",
    "    departure_time=datetime.now(),\n",
    "    range_type=RANGE_TYPE.time,\n",
    "    transport_mode=ISOLINE_ROUTING_TRANSPORT_MODE.car,\n",
    ")\n",
    "data2 = result2.to_geojson()\n",
    "\n",
    "geo_layer2 = GeoJSON(data=data2)\n",
    "\n",
    "second_center = Marker(lat=19.1621, lng=73.0008)\n",
    "\n",
    "m = Map(\n",
    "    api_key=LS_API_KEY,\n",
    "    center=[19.1621, 73.0008],\n",
    "    zoom=9,\n",
    ")"
   ],
   "outputs": [],
   "metadata": {}
  },
  {
   "cell_type": "code",
   "execution_count": 8,
   "source": [
    "m.add_layer(geo_layer1)\n",
    "m.add_object(first_center)\n",
    "m"
   ],
   "outputs": [
    {
     "output_type": "display_data",
     "data": {
      "text/plain": [
       "Map(api_key='TKURWbpJHcbzmWMrmTZwGAdSTLrX8WY1oddj4S4U-EM', basemap=None, center=[19.1621, 73.0008], layers=(Ge…"
      ],
      "application/vnd.jupyter.widget-view+json": {
       "version_major": 2,
       "version_minor": 0,
       "model_id": "bc62df4aa56b4145b185d4894eeb8308"
      }
     },
     "metadata": {}
    }
   ],
   "metadata": {}
  },
  {
   "cell_type": "code",
   "execution_count": 9,
   "source": [
    "m.add_layer(geo_layer2)\n",
    "m.add_object(second_center)"
   ],
   "outputs": [],
   "metadata": {}
  },
  {
   "cell_type": "code",
   "execution_count": 14,
   "source": [
    "from shapely.geometry import Polygon\n",
    "import shapely.wkt\n",
    "\n",
    "l1 = data1[\"features\"][0][\"geometry\"][\"coordinates\"][0]\n",
    "l2 = data2[\"features\"][0][\"geometry\"][\"coordinates\"][0]\n",
    "p1 = Polygon(l1)\n",
    "p2 = Polygon(l2)\n",
    "p3 = shapely.wkt.loads(str(p1.intersection(p2)))\n",
    "centroid = p3.centroid\n",
    "center_marker = Marker(lng=centroid.x, lat=centroid.y)\n",
    "m.add_object(center_marker)\n",
    "m"
   ],
   "outputs": [
    {
     "output_type": "error",
     "ename": "ModuleNotFoundError",
     "evalue": "No module named 'shapely'",
     "traceback": [
      "\u001b[0;31m---------------------------------------------------------------------------\u001b[0m",
      "\u001b[0;31mModuleNotFoundError\u001b[0m                       Traceback (most recent call last)",
      "\u001b[0;32m/var/folders/75/77gfqs391q772q4q72ks49hc0000gp/T/ipykernel_40673/524066726.py\u001b[0m in \u001b[0;36m<module>\u001b[0;34m\u001b[0m\n\u001b[0;32m----> 1\u001b[0;31m \u001b[0;32mfrom\u001b[0m \u001b[0mshapely\u001b[0m\u001b[0;34m.\u001b[0m\u001b[0mgeometry\u001b[0m \u001b[0;32mimport\u001b[0m \u001b[0mPolygon\u001b[0m\u001b[0;34m\u001b[0m\u001b[0;34m\u001b[0m\u001b[0m\n\u001b[0m\u001b[1;32m      2\u001b[0m \u001b[0;32mimport\u001b[0m \u001b[0mshapely\u001b[0m\u001b[0;34m.\u001b[0m\u001b[0mwkt\u001b[0m\u001b[0;34m\u001b[0m\u001b[0;34m\u001b[0m\u001b[0m\n\u001b[1;32m      3\u001b[0m \u001b[0;34m\u001b[0m\u001b[0m\n\u001b[1;32m      4\u001b[0m \u001b[0ml1\u001b[0m \u001b[0;34m=\u001b[0m \u001b[0mdata1\u001b[0m\u001b[0;34m[\u001b[0m\u001b[0;34m\"features\"\u001b[0m\u001b[0;34m]\u001b[0m\u001b[0;34m[\u001b[0m\u001b[0;36m0\u001b[0m\u001b[0;34m]\u001b[0m\u001b[0;34m[\u001b[0m\u001b[0;34m\"geometry\"\u001b[0m\u001b[0;34m]\u001b[0m\u001b[0;34m[\u001b[0m\u001b[0;34m\"coordinates\"\u001b[0m\u001b[0;34m]\u001b[0m\u001b[0;34m[\u001b[0m\u001b[0;36m0\u001b[0m\u001b[0;34m]\u001b[0m\u001b[0;34m\u001b[0m\u001b[0;34m\u001b[0m\u001b[0m\n\u001b[1;32m      5\u001b[0m \u001b[0ml2\u001b[0m \u001b[0;34m=\u001b[0m \u001b[0mdata2\u001b[0m\u001b[0;34m[\u001b[0m\u001b[0;34m\"features\"\u001b[0m\u001b[0;34m]\u001b[0m\u001b[0;34m[\u001b[0m\u001b[0;36m0\u001b[0m\u001b[0;34m]\u001b[0m\u001b[0;34m[\u001b[0m\u001b[0;34m\"geometry\"\u001b[0m\u001b[0;34m]\u001b[0m\u001b[0;34m[\u001b[0m\u001b[0;34m\"coordinates\"\u001b[0m\u001b[0;34m]\u001b[0m\u001b[0;34m[\u001b[0m\u001b[0;36m0\u001b[0m\u001b[0;34m]\u001b[0m\u001b[0;34m\u001b[0m\u001b[0;34m\u001b[0m\u001b[0m\n",
      "\u001b[0;31mModuleNotFoundError\u001b[0m: No module named 'shapely'"
     ]
    }
   ],
   "metadata": {}
  },
  {
   "cell_type": "code",
   "execution_count": 11,
   "source": [
    "search = ls.discover(center=[centroid.x, centroid.y], limit=10, query='restaurant', country_codes=[\"IND\"])\n",
    "search.items"
   ],
   "outputs": [
    {
     "output_type": "error",
     "ename": "NameError",
     "evalue": "name 'centroid' is not defined",
     "traceback": [
      "\u001b[0;31m---------------------------------------------------------------------------\u001b[0m",
      "\u001b[0;31mNameError\u001b[0m                                 Traceback (most recent call last)",
      "\u001b[0;32m/var/folders/75/77gfqs391q772q4q72ks49hc0000gp/T/ipykernel_40673/2771043532.py\u001b[0m in \u001b[0;36m<module>\u001b[0;34m\u001b[0m\n\u001b[0;32m----> 1\u001b[0;31m \u001b[0msearch\u001b[0m \u001b[0;34m=\u001b[0m \u001b[0mls\u001b[0m\u001b[0;34m.\u001b[0m\u001b[0mdiscover\u001b[0m\u001b[0;34m(\u001b[0m\u001b[0mcenter\u001b[0m\u001b[0;34m=\u001b[0m\u001b[0;34m[\u001b[0m\u001b[0mcentroid\u001b[0m\u001b[0;34m.\u001b[0m\u001b[0mx\u001b[0m\u001b[0;34m,\u001b[0m \u001b[0mcentroid\u001b[0m\u001b[0;34m.\u001b[0m\u001b[0my\u001b[0m\u001b[0;34m]\u001b[0m\u001b[0;34m,\u001b[0m \u001b[0mlimit\u001b[0m\u001b[0;34m=\u001b[0m\u001b[0;36m10\u001b[0m\u001b[0;34m,\u001b[0m \u001b[0mquery\u001b[0m\u001b[0;34m=\u001b[0m\u001b[0;34m'restaurant'\u001b[0m\u001b[0;34m,\u001b[0m \u001b[0mcountry_codes\u001b[0m\u001b[0;34m=\u001b[0m\u001b[0;34m[\u001b[0m\u001b[0;34m\"IND\"\u001b[0m\u001b[0;34m]\u001b[0m\u001b[0;34m)\u001b[0m\u001b[0;34m\u001b[0m\u001b[0;34m\u001b[0m\u001b[0m\n\u001b[0m\u001b[1;32m      2\u001b[0m \u001b[0msearch\u001b[0m\u001b[0;34m.\u001b[0m\u001b[0mitems\u001b[0m\u001b[0;34m\u001b[0m\u001b[0;34m\u001b[0m\u001b[0m\n",
      "\u001b[0;31mNameError\u001b[0m: name 'centroid' is not defined"
     ]
    }
   ],
   "metadata": {}
  },
  {
   "cell_type": "code",
   "execution_count": null,
   "source": [
    "group = Group(volatility=True)\n",
    "\n",
    "restaurants =[]\n",
    "for restaurant in search.items:\n",
    "    restaurants.append(\n",
    "        Marker(\n",
    "            lat=restaurant[\"position\"][\"lat\"],\n",
    "            lng=restaurant[\"position\"][\"lng\"],\n",
    "            data=restaurant[\"address\"][\"label\"],\n",
    "        )\n",
    "    )\n",
    "group.add_objects(restaurants)\n",
    "m.add_object(group)"
   ],
   "outputs": [],
   "metadata": {}
  }
 ],
 "metadata": {
  "kernelspec": {
   "name": "python3",
   "display_name": "Python 3.9.6 64-bit"
  },
  "language_info": {
   "codemirror_mode": {
    "name": "ipython",
    "version": 3
   },
   "file_extension": ".py",
   "mimetype": "text/x-python",
   "name": "python",
   "nbconvert_exporter": "python",
   "pygments_lexer": "ipython3",
   "version": "3.9.6"
  },
  "interpreter": {
   "hash": "aee8b7b246df8f9039afb4144a1f6fd8d2ca17a180786b69acc140d282b71a49"
  }
 },
 "nbformat": 4,
 "nbformat_minor": 4
}