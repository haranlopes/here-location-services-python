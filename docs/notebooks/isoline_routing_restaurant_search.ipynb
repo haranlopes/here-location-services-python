{
 "cells": [
  {
   "cell_type": "markdown",
   "metadata": {},
   "source": [
    "# Example Use-Case\n",
    "Let's look at a use-case - Two friends living in different parts of a city want to hang out at a restaurant. Due to busy schedules, each can only drive at the max of 60 minutes away from their house.  Let's see how we can use different Here Location Services to resolve their dilemma. "
   ]
  },
  {
   "cell_type": "markdown",
   "metadata": {},
   "source": [
    "<div class=\"alert alert-block alert-warning\">\n",
    "<b>Warning:</b> Before running below cells please make sure you have API key. \n",
    "                Please see <a href=\"https://github.com/heremaps/here-location-services-python/blob/master/docs/notebooks/README.md\">README.md</a> for more info on API key.\n",
    "</div>"
   ]
  },
  {
   "cell_type": "code",
   "execution_count": null,
   "metadata": {},
   "outputs": [],
   "source": [
    "import os\n",
    "\n",
    "os.environ[\"LS_API_KEY\"] = \"MY-API-KEY\"  # replace your API key here."
   ]
  },
  {
   "cell_type": "code",
   "execution_count": null,
   "metadata": {},
   "outputs": [],
   "source": [
    "import os\n",
    "from datetime import datetime\n",
    "\n",
    "from here_location_services import LS\n",
    "from here_map_widget import Map, Marker, GeoJSON, Group\n",
    "from here_location_services.config.isoline_routing_config import (\n",
    "    RANGE_TYPE,\n",
    "    ISOLINE_ROUTING_TRANSPORT_MODE,\n",
    ")\n",
    "\n",
    "\n",
    "LS_API_KEY = os.environ.get(\"LS_API_KEY\")\n",
    "ls = LS(api_key=LS_API_KEY)\n",
    "\n",
    "result1 = ls.calculate_isoline(\n",
    "    origin=[19.1503, 72.8530],\n",
    "    range=\"3600\",\n",
    "    departure_time=datetime.now(),\n",
    "    range_type=RANGE_TYPE.time,\n",
    "    transport_mode=ISOLINE_ROUTING_TRANSPORT_MODE.car,\n",
    ")\n",
    "\n",
    "data1 = result1.to_geojson()\n",
    "first_center = Marker(lat=19.1503, lng=72.8530)\n",
    "geo_layer1 = GeoJSON(data=data1)\n",
    "result2 = ls.calculate_isoline(\n",
    "    origin=[19.1621, 73.0008],\n",
    "    range=\"3600\",\n",
    "    departure_time=datetime.now(),\n",
    "    range_type=RANGE_TYPE.time,\n",
    "    transport_mode=ISOLINE_ROUTING_TRANSPORT_MODE.car,\n",
    ")\n",
    "data2 = result2.to_geojson()\n",
    "\n",
    "geo_layer2 = GeoJSON(data=data2)\n",
    "\n",
    "second_center = Marker(lat=19.1621, lng=73.0008)\n",
    "\n",
    "m = Map(\n",
    "    api_key=LS_API_KEY,\n",
    "    center=[19.1621, 73.0008],\n",
    "    zoom=9,\n",
    ")"
   ]
  },
  {
   "cell_type": "code",
   "execution_count": null,
   "metadata": {
    "scrolled": false
   },
   "outputs": [],
   "source": [
    "m.add_layer(geo_layer1)\n",
    "m.add_object(first_center)\n",
    "m"
   ]
  },
  {
   "cell_type": "code",
   "execution_count": null,
   "metadata": {},
   "outputs": [],
   "source": [
    "m.add_layer(geo_layer2)\n",
    "m.add_object(second_center)"
   ]
  },
  {
   "cell_type": "code",
   "execution_count": null,
   "metadata": {},
   "outputs": [],
   "source": [
    "import shapely.wkt\n",
    "from shapely.geometry import Polygon, shape\n",
    "\n",
    "p1 = shape(data1[\"features\"][0][\"geometry\"])\n",
    "p2 = shape(data2[\"features\"][0][\"geometry\"])\n",
    "\n",
    "p3 = shapely.wkt.loads(str(p1.intersection(p2)))\n",
    "centroid = p3.centroid\n",
    "p3\n",
    "centroid\n",
    "center_marker = Marker(lng=centroid.x, lat=centroid.y)\n",
    "m.add_object(center_marker)\n",
    "m"
   ]
  },
  {
   "cell_type": "code",
   "execution_count": null,
   "metadata": {},
   "outputs": [],
   "source": [
    "search = ls.discover(\n",
    "    center=[centroid.y, centroid.x], limit=10, query=\"restaurant\", country_codes=[\"IND\"]\n",
    ")\n",
    "search.items"
   ]
  },
  {
   "cell_type": "code",
   "execution_count": null,
   "metadata": {},
   "outputs": [],
   "source": [
    "group = Group(volatility=True)\n",
    "\n",
    "restaurants = []\n",
    "for restaurant in search.items:\n",
    "    restaurants.append(\n",
    "        Marker(\n",
    "            lat=restaurant[\"position\"][\"lat\"],\n",
    "            lng=restaurant[\"position\"][\"lng\"],\n",
    "            data=restaurant[\"address\"][\"label\"],\n",
    "        )\n",
    "    )\n",
    "group.add_objects(restaurants)\n",
    "m.add_object(group)"
   ]
  }
 ],
 "metadata": {
  "interpreter": {
   "hash": "aee8b7b246df8f9039afb4144a1f6fd8d2ca17a180786b69acc140d282b71a49"
  },
  "kernelspec": {
   "display_name": "Python 3",
   "language": "python",
   "name": "python3"
  },
  "language_info": {
   "codemirror_mode": {
    "name": "ipython",
    "version": 3
   },
   "file_extension": ".py",
   "mimetype": "text/x-python",
   "name": "python",
   "nbconvert_exporter": "python",
   "pygments_lexer": "ipython3",
   "version": "3.8.5"
  }
 },
 "nbformat": 4,
 "nbformat_minor": 4
}
