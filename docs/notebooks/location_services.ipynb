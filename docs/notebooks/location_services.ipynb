{
 "cells": [
  {
   "cell_type": "markdown",
   "source": [
    "<div class=\"alert alert-block alert-warning\">\n",
    "<b>Warning:</b> Before running below cells please make sure you have API key. \n",
    "                Please see <a href=\"https://github.com/heremaps/here-location-services-python/blob/master/docs/notebooks/README.md\">README.md</a> for more info on API key.\n",
    "</div>"
   ],
   "metadata": {}
  },
  {
   "cell_type": "code",
   "execution_count": null,
   "source": [
    "import os\n",
    "\n",
    "os.environ[\"LS_API_KEY\"] = \"MY-API-KEY\"  # replace your API key here."
   ],
   "outputs": [],
   "metadata": {}
  },
  {
   "cell_type": "code",
   "execution_count": null,
   "source": [
    "import os\n",
    "\n",
    "from here_location_services import LS\n",
    "from here_map_widget import Map, Marker, GeoJSON"
   ],
   "outputs": [],
   "metadata": {}
  },
  {
   "cell_type": "code",
   "execution_count": null,
   "source": [
    "# Create Location Services object using API KEY.\n",
    "\n",
    "LS_API_KEY = os.environ.get(\"LS_API_KEY\")  # Get API KEY from environment.\n",
    "\n",
    "ls = LS(api_key=LS_API_KEY)"
   ],
   "outputs": [],
   "metadata": {}
  },
  {
   "cell_type": "markdown",
   "source": [
    "## Geocode endpoint of HERE Geocoding and Search API\n",
    "[API Details](https://developer.here.com/documentation/geocoding-search-api/dev_guide/topics/endpoint-geocode-brief.html)"
   ],
   "metadata": {}
  },
  {
   "cell_type": "code",
   "execution_count": null,
   "source": [
    "# Geocoding Example\n",
    "\n",
    "address = \"Invalidenstr 116, 10115 Berlin, Germany\"\n",
    "gc_response = ls.geocode(query=address)\n",
    "\n",
    "data = gc_response.to_geojson()\n",
    "geo_layer = GeoJSON(data=data, show_bubble=True)\n",
    "\n",
    "m = Map(api_key=LS_API_KEY, center=[52.53086, 13.38469], zoom=12)\n",
    "m.add_layer(geo_layer)\n",
    "m"
   ],
   "outputs": [],
   "metadata": {}
  },
  {
   "cell_type": "markdown",
   "source": [
    "## Reverse Geocode endpoint of HERE Geocoding and Search API\n",
    "[API Details](https://developer.here.com/documentation/geocoding-search-api/dev_guide/topics/endpoint-reverse-geocode-brief.html)"
   ],
   "metadata": {}
  },
  {
   "cell_type": "code",
   "execution_count": null,
   "source": [
    "# Reverse geocoding example\n",
    "\n",
    "rev_gc_response = ls.reverse_geocode(lat=52.53086, lng=13.38469)\n",
    "rev_gc_response.items[0][\"address\"][\"label\"]"
   ],
   "outputs": [],
   "metadata": {
    "scrolled": true
   }
  },
  {
   "cell_type": "markdown",
   "source": [
    "## Isoline Routing\n",
    "[API Details](https://developer.here.com/documentation/routing/dev_guide/topics/request-isoline.html)"
   ],
   "metadata": {}
  },
  {
   "cell_type": "code",
   "execution_count": null,
   "source": [
    "# Isoline routing example\n",
    "\n",
    "from here_location_services.config.isoline_routing_config import (\n",
    "    RANGE_TYPE,\n",
    "    ISOLINE_ROUTING_TRANSPORT_MODE,\n",
    ")\n",
    "from datetime import datetime\n",
    "\n",
    "iso_response = ls.calculate_isoline(\n",
    "    origin=[52.53086, 13.38469],\n",
    "    range=\"1800\",\n",
    "    departure_time=datetime.now(),\n",
    "    range_type=RANGE_TYPE.time,\n",
    "    transport_mode=ISOLINE_ROUTING_TRANSPORT_MODE.car,\n",
    ")\n",
    "\n",
    "data = iso_response.to_geojson()\n",
    "geo_layer = GeoJSON(data=data)\n",
    "\n",
    "iso_marker = Marker(lat=52.53086, lng=13.38469)\n",
    "\n",
    "m = Map(api_key=LS_API_KEY, center=[52.53086, 13.38469], zoom=9)\n",
    "m.add_layer(geo_layer)\n",
    "m.add_object(iso_marker)\n",
    "m"
   ],
   "outputs": [],
   "metadata": {}
  },
  {
   "cell_type": "markdown",
   "source": [
    "## Discover endpoint of HERE Geocoding and Search API\n",
    "[API Details](https://developer.here.com/documentation/geocoding-search-api/dev_guide/topics/endpoint-discover-brief.html)"
   ],
   "metadata": {}
  },
  {
   "cell_type": "code",
   "execution_count": null,
   "source": [
    "disc_response = ls.discover(query=\"coffee\", center=[52.53086, 13.38469], radius=1000)\n",
    "\n",
    "data = disc_response.to_geojson()\n",
    "geo_layer = GeoJSON(data=data)\n",
    "\n",
    "m = Map(api_key=LS_API_KEY, center=[52.53086, 13.38469], zoom=15)\n",
    "m.add_layer(geo_layer)\n",
    "m"
   ],
   "outputs": [],
   "metadata": {}
  },
  {
   "cell_type": "markdown",
   "source": [
    "## Browse endpoint of HERE Geocoding and Search API\n",
    "[API Details](https://developer.here.com/documentation/geocoding-search-api/dev_guide/topics/endpoint-browse-brief.html)"
   ],
   "metadata": {}
  },
  {
   "cell_type": "code",
   "execution_count": null,
   "source": [
    "from here_location_services.config.search_config import PLACES_CATEGORIES\n",
    "\n",
    "browse_response = ls.browse(\n",
    "    center=[52.53086, 13.38469],\n",
    "    bounding_box=[13.08836, 52.33812, 13.761, 52.6755],\n",
    "    categories=[PLACES_CATEGORIES.restaurant],\n",
    ")\n",
    "\n",
    "data = browse_response.to_geojson()\n",
    "geo_layer = GeoJSON(data=data)\n",
    "\n",
    "m = Map(api_key=LS_API_KEY, center=[52.53086, 13.38469], zoom=15)\n",
    "m.add_layer(geo_layer)\n",
    "\n",
    "m"
   ],
   "outputs": [],
   "metadata": {}
  },
  {
   "cell_type": "markdown",
   "source": [
    "## Lookup endpoint of HERE Geocoding and Search API\n",
    "[API Details](https://developer.here.com/documentation/geocoding-search-api/dev_guide/topics/endpoint-lookup-brief.html)"
   ],
   "metadata": {}
  },
  {
   "cell_type": "code",
   "execution_count": null,
   "source": [
    "lookup = ls.lookup(location_id=browse_response.items[0][\"id\"])\n",
    "\n",
    "lookup.response"
   ],
   "outputs": [],
   "metadata": {}
  }
 ],
 "metadata": {
  "kernelspec": {
   "display_name": "Python 3",
   "language": "python",
   "name": "python3"
  },
  "language_info": {
   "codemirror_mode": {
    "name": "ipython",
    "version": 3
   },
   "file_extension": ".py",
   "mimetype": "text/x-python",
   "name": "python",
   "nbconvert_exporter": "python",
   "pygments_lexer": "ipython3",
   "version": "3.8.5"
  }
 },
 "nbformat": 4,
 "nbformat_minor": 4
}